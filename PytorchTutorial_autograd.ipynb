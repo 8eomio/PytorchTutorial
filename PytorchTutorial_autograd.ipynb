{
 "cells": [
  {
   "cell_type": "markdown",
   "metadata": {},
   "source": [
    "# TORCH.AUTOGRAD를 사용한 자동 미분"
   ]
  },
  {
   "cell_type": "code",
   "execution_count": 1,
   "metadata": {},
   "outputs": [],
   "source": [
    "import torch\n",
    "\n",
    "x = torch.ones(5)  # input tensor\n",
    "y = torch.zeros(3)  # expected output\n",
    "w = torch.randn(5, 3, requires_grad=True)\n",
    "b = torch.randn(3, requires_grad=True)\n",
    "z = torch.matmul(x, w)+b\n",
    "loss = torch.nn.functional.binary_cross_entropy_with_logits(z, y)\n",
    "#w,b는 최적화를 해야 하는 매개변수\n",
    "#require_grad의 값은 x.requires_grad_(True)메소드를 사용하여 나중에 설정할 수 있음"
   ]
  },
  {
   "cell_type": "code",
   "execution_count": 2,
   "metadata": {},
   "outputs": [
    {
     "name": "stdout",
     "output_type": "stream",
     "text": [
      "Gradient function for z = <AddBackward0 object at 0x0000024BC54C28E0>\n",
      "Gradient function for loss = <BinaryCrossEntropyWithLogitsBackward object at 0x0000024BC54C2850>\n"
     ]
    }
   ],
   "source": [
    "\n",
    "print('Gradient function for z =', z.grad_fn)\n",
    "print('Gradient function for loss =', loss.grad_fn)"
   ]
  },
  {
   "cell_type": "markdown",
   "metadata": {},
   "source": [
    "### 변화도(Gradient) 계산하기"
   ]
  },
  {
   "cell_type": "code",
   "execution_count": 3,
   "metadata": {},
   "outputs": [
    {
     "name": "stdout",
     "output_type": "stream",
     "text": [
      "tensor([[0.2410, 0.1919, 0.3276],\n",
      "        [0.2410, 0.1919, 0.3276],\n",
      "        [0.2410, 0.1919, 0.3276],\n",
      "        [0.2410, 0.1919, 0.3276],\n",
      "        [0.2410, 0.1919, 0.3276]])\n",
      "tensor([0.2410, 0.1919, 0.3276])\n"
     ]
    }
   ],
   "source": [
    "loss.backward()\n",
    "print(w.grad)\n",
    "print(b.grad)"
   ]
  },
  {
   "cell_type": "markdown",
   "metadata": {},
   "source": [
    "### 변화도 추적 멈추기"
   ]
  },
  {
   "cell_type": "markdown",
   "metadata": {},
   "source": [
    "변화도 추적은 사전 학습된 신경망을 미세조정(fine-tuning)할 때 사용합니다.\n",
    "또한 순전파 단계만 수행할 때 연산 속도가 향상됩니다. "
   ]
  },
  {
   "cell_type": "code",
   "execution_count": 4,
   "metadata": {},
   "outputs": [
    {
     "name": "stdout",
     "output_type": "stream",
     "text": [
      "True\n",
      "False\n"
     ]
    }
   ],
   "source": [
    "z = torch.matmul(x, w)+b\n",
    "print(z.requires_grad)\n",
    "\n",
    "with torch.no_grad():\n",
    "    z = torch.matmul(x, w)+b\n",
    "print(z.requires_grad)"
   ]
  },
  {
   "cell_type": "code",
   "execution_count": 5,
   "metadata": {},
   "outputs": [
    {
     "name": "stdout",
     "output_type": "stream",
     "text": [
      "False\n"
     ]
    }
   ],
   "source": [
    "#위와 동일한 결과\n",
    "z = torch.matmul(x, w)+b\n",
    "z_det = z.detach()\n",
    "print(z_det.requires_grad)"
   ]
  },
  {
   "cell_type": "markdown",
   "metadata": {},
   "source": [
    "### 연산 그래프에 대한 추가 정보"
   ]
  },
  {
   "cell_type": "markdown",
   "metadata": {},
   "source": [
    "순전파 단계에서 autograd 는 다음 두 가지 작업을 수행\n",
    "* 요청된 연산을 수행하여 결과 텐서를 계산하고,\n",
    "* DAG에 연산의 변화도 기능(gradient function)를 유지(maintain)합니다.\n",
    "\n",
    "역전파 단계는 DAG 뿌리(root)에서 .backward()가 호출될 때 시작됩니다.\n",
    "* 각 .grad_fn으로부터 변화도를 계산하고,\n",
    "* 각 텐서의 .grad 속성에 계산 결과를 쌓고(accumulate)\n",
    "* 연쇄 법칙을 사용하여, 모든 잎(leaf)텐서들까지 전파(propagate)합니다. "
   ]
  },
  {
   "cell_type": "code",
   "execution_count": null,
   "metadata": {},
   "outputs": [],
   "source": []
  }
 ],
 "metadata": {
  "kernelspec": {
   "display_name": "Python 3",
   "language": "python",
   "name": "python3"
  },
  "language_info": {
   "codemirror_mode": {
    "name": "ipython",
    "version": 3
   },
   "file_extension": ".py",
   "mimetype": "text/x-python",
   "name": "python",
   "nbconvert_exporter": "python",
   "pygments_lexer": "ipython3",
   "version": "3.8.5"
  }
 },
 "nbformat": 4,
 "nbformat_minor": 4
}
