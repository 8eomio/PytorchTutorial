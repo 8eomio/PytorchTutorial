{
 "cells": [
  {
   "cell_type": "markdown",
   "metadata": {},
   "source": [
    "# 모델 매개변수 최적화하기"
   ]
  },
  {
   "cell_type": "markdown",
   "metadata": {},
   "source": [
    "모델과 데이터가 준비되면 데이터에 매개변수를 최적화하여 모델을 학습하고, 검증하고, 테스트할 차례입니다.\n",
    "모델의 학습과정은 반복적인 과정(epoch)을 통해 추측과 정답 사이의 오류(loss)를 계산하고 오류의 도함수(derivative)를 수집한 뒤,\n",
    "경사하강법을 사용하여 파라미터들을 최적화합니다. "
   ]
  },
  {
   "cell_type": "markdown",
   "metadata": {},
   "source": [
    "### 기본 코드"
   ]
  },
  {
   "cell_type": "code",
   "execution_count": 1,
   "metadata": {},
   "outputs": [],
   "source": [
    "import torch\n",
    "from torch import nn\n",
    "from torch.utils.data import DataLoader\n",
    "from torchvision import datasets\n",
    "from torchvision.transforms import ToTensor, Lambda\n",
    "\n",
    "training_data = datasets.FashionMNIST(\n",
    "    root=\"data\",\n",
    "    train=True,\n",
    "    download=True,\n",
    "    transform=ToTensor()\n",
    ")\n",
    "\n",
    "test_data = datasets.FashionMNIST(\n",
    "    root=\"data\",\n",
    "    train=False,\n",
    "    download=True,\n",
    "    transform=ToTensor()\n",
    ")\n",
    "\n",
    "train_dataloader = DataLoader(training_data, batch_size=64)\n",
    "test_dataloader = DataLoader(test_data, batch_size=64)\n",
    "\n",
    "class NeuralNetwork(nn.Module):\n",
    "    def __init__(self):\n",
    "        super(NeuralNetwork, self).__init__()\n",
    "        self.flatten = nn.Flatten()\n",
    "        self.linear_relu_stack = nn.Sequential(\n",
    "            nn.Linear(28*28, 512),\n",
    "            nn.ReLU(),\n",
    "            nn.Linear(512, 512),\n",
    "            nn.ReLU(),\n",
    "            nn.Linear(512, 10),\n",
    "            nn.ReLU()\n",
    "        )\n",
    "\n",
    "    def forward(self, x):\n",
    "        x = self.flatten(x)\n",
    "        logits = self.linear_relu_stack(x)\n",
    "        return logits\n",
    "\n",
    "model = NeuralNetwork()"
   ]
  },
  {
   "cell_type": "markdown",
   "metadata": {},
   "source": [
    "### 하이퍼파라미터(Hyperparameter)"
   ]
  },
  {
   "cell_type": "markdown",
   "metadata": {},
   "source": [
    "하이퍼파라미터는 모델 최적화 과정을 제어할 수 있는 조절 가능한 매개변수입니다. 이는 학습으로 조절되지는 않지만\n",
    "하이퍼파라미터의 값은 모델 학습과 수렴에 영향을 미칩니다. \n",
    "보통 학습 시에 사용되는 하이퍼파라미터는 아래와 같습니다. \n",
    "* epoch - 데이터셋을 반복하는 횟수\n",
    "* batch size - 매개변수가 갱신되기 전 신경망을 통해 전파된 데이터 샘플의 수 \n",
    "* learning rate - 각 배치/에폭 에서 모델의 매개변수를 조절하는 비율. 값을 작으면 학습 속도가 느려지며, 값이 크면 수렴하기 힘들어 질 수 있습니다.    "
   ]
  },
  {
   "cell_type": "code",
   "execution_count": 2,
   "metadata": {},
   "outputs": [],
   "source": [
    "learning_rate = 1e-3\n",
    "batch_size = 64\n",
    "epochs = 5"
   ]
  },
  {
   "cell_type": "markdown",
   "metadata": {},
   "source": [
    "### 최적화 단계 "
   ]
  },
  {
   "cell_type": "markdown",
   "metadata": {},
   "source": [
    "최적화 단계의 각 반복을 epoch이라 부르며 \n",
    "하나의 epoch은 두 부분으로 구성됩니다.\n",
    "* 학습 단계 (train loop) - 학습용 데이터셋을 반복하고 최적의 매개변수로 수렴합니다. \n",
    "* 검증/테스트 단계 - 모델 성능이 개선되고 있는지를 확인하기 위해 테스트 데이터셋을 반복합니다. \n"
   ]
  },
  {
   "cell_type": "markdown",
   "metadata": {},
   "source": [
    "### 손실함수(loss function)"
   ]
  },
  {
   "cell_type": "markdown",
   "metadata": {},
   "source": [
    "손실함수는 모델이 획득한 결과와 실제 값 사이의 틀린 정도를 측정하며, 학습 중에는 이 값을 최소화하는 방향으로 학습을 진행합니다. \n",
    "일반적인 손실함수는 아래와 같습니다. \n",
    "* 회귀문제(regression) - nn.MSELoss\n",
    "* 분류문제(classification) - nn.NLLLoss, nn.CrossEntropyLoss\n"
   ]
  },
  {
   "cell_type": "code",
   "execution_count": 3,
   "metadata": {},
   "outputs": [],
   "source": [
    "# 손실 함수를 초기화합니다.\n",
    "loss_fn = nn.CrossEntropyLoss()"
   ]
  },
  {
   "cell_type": "markdown",
   "metadata": {},
   "source": [
    "### Optimizer"
   ]
  },
  {
   "cell_type": "markdown",
   "metadata": {},
   "source": [
    "최적화는 각 학습 단계에서 모델의 오류를 줄이기 위해 모델 매개변수를 조정하는 과정입니다. 최적화 알고리즘은 이 과정이 수행되는 방식(여기에서는 확률적 경사하강법(SGD; Stochastic Gradient Descent))을 정의합니다.\n",
    "모든 최적화 절차는 optimizer 객체에 캡슐화 됩니다. \n"
   ]
  },
  {
   "cell_type": "code",
   "execution_count": 4,
   "metadata": {},
   "outputs": [],
   "source": [
    "optimizer = torch.optim.SGD(model.parameters(), lr=learning_rate)"
   ]
  },
  {
   "cell_type": "markdown",
   "metadata": {},
   "source": [
    "학습 단계(loop)에서 최적화는 세단계로 이뤄집니다:\n",
    "* optimizer.zero_grad()를 호출하여 모델 매개변수의 변화도를 재설정합니다. 기본적으로 변화도는 더해지기(add up) 때문에 중복 계산을 막기 위해 반복할 때마다 명시적으로 0으로 설정합니다.\n",
    "* loss.backward()를 호출하여 예측 손실(prediction loss)을 역전파합니다. PyTorch는 각 매개변수에 대한 손실의 변화도를 저장합니다.\n",
    "* 변화도를 계산한 뒤에는 optimizer.step()을 호출하여 역전파 단계에서 수집된 변화도로 매개변수를 조정합니다."
   ]
  },
  {
   "cell_type": "markdown",
   "metadata": {},
   "source": [
    "### 전체 구현"
   ]
  },
  {
   "cell_type": "code",
   "execution_count": 5,
   "metadata": {},
   "outputs": [],
   "source": [
    "def train_loop(dataloader, model, loss_fn, optimizer):\n",
    "    size = len(dataloader.dataset)\n",
    "    for batch, (X, y) in enumerate(dataloader):\n",
    "        # 예측(prediction)과 손실(loss) 계산\n",
    "        pred = model(X)\n",
    "        loss = loss_fn(pred, y)\n",
    "\n",
    "        # 역전파\n",
    "        optimizer.zero_grad()\n",
    "        loss.backward()\n",
    "        optimizer.step()\n",
    "\n",
    "        if batch % 100 == 0:\n",
    "            loss, current = loss.item(), batch * len(X)\n",
    "            print(f\"loss: {loss:>7f}  [{current:>5d}/{size:>5d}]\")\n",
    "\n",
    "\n",
    "def test_loop(dataloader, model, loss_fn):\n",
    "    size = len(dataloader.dataset)\n",
    "    num_batches = len(dataloader)\n",
    "    test_loss, correct = 0, 0\n",
    "\n",
    "    with torch.no_grad():\n",
    "        for X, y in dataloader:\n",
    "            pred = model(X)\n",
    "            test_loss += loss_fn(pred, y).item()\n",
    "            correct += (pred.argmax(1) == y).type(torch.float).sum().item()\n",
    "\n",
    "    test_loss /= num_batches\n",
    "    correct /= size\n",
    "    print(f\"Test Error: \\n Accuracy: {(100*correct):>0.1f}%, Avg loss: {test_loss:>8f} \\n\")"
   ]
  },
  {
   "cell_type": "code",
   "execution_count": 6,
   "metadata": {},
   "outputs": [
    {
     "name": "stdout",
     "output_type": "stream",
     "text": [
      "Epoch 1\n",
      "-------------------------------\n",
      "loss: 2.296058  [    0/60000]\n",
      "loss: 2.291445  [ 6400/60000]\n",
      "loss: 2.279195  [12800/60000]\n",
      "loss: 2.281773  [19200/60000]\n",
      "loss: 2.265295  [25600/60000]\n",
      "loss: 2.241428  [32000/60000]\n",
      "loss: 2.252755  [38400/60000]\n",
      "loss: 2.228477  [44800/60000]\n",
      "loss: 2.214210  [51200/60000]\n",
      "loss: 2.209185  [57600/60000]\n",
      "Test Error: \n",
      " Accuracy: 43.6%, Avg loss: 2.206954 \n",
      "\n",
      "Epoch 2\n",
      "-------------------------------\n",
      "loss: 2.195545  [    0/60000]\n",
      "loss: 2.192936  [ 6400/60000]\n",
      "loss: 2.163235  [12800/60000]\n",
      "loss: 2.196950  [19200/60000]\n",
      "loss: 2.142715  [25600/60000]\n",
      "loss: 2.097704  [32000/60000]\n",
      "loss: 2.136948  [38400/60000]\n",
      "loss: 2.081262  [44800/60000]\n",
      "loss: 2.070784  [51200/60000]\n",
      "loss: 2.053642  [57600/60000]\n",
      "Test Error: \n",
      " Accuracy: 48.9%, Avg loss: 2.050915 \n",
      "\n",
      "Epoch 3\n",
      "-------------------------------\n",
      "loss: 2.029916  [    0/60000]\n",
      "loss: 2.020678  [ 6400/60000]\n",
      "loss: 1.960731  [12800/60000]\n",
      "loss: 2.041980  [19200/60000]\n",
      "loss: 1.926240  [25600/60000]\n",
      "loss: 1.857210  [32000/60000]\n",
      "loss: 1.931336  [38400/60000]\n",
      "loss: 1.839060  [44800/60000]\n",
      "loss: 1.848255  [51200/60000]\n",
      "loss: 1.800782  [57600/60000]\n",
      "Test Error: \n",
      " Accuracy: 53.4%, Avg loss: 1.809261 \n",
      "\n",
      "Epoch 4\n",
      "-------------------------------\n",
      "loss: 1.779117  [    0/60000]\n",
      "loss: 1.762964  [ 6400/60000]\n",
      "loss: 1.679827  [12800/60000]\n",
      "loss: 1.823787  [19200/60000]\n",
      "loss: 1.658776  [25600/60000]\n",
      "loss: 1.582424  [32000/60000]\n",
      "loss: 1.689336  [38400/60000]\n",
      "loss: 1.586573  [44800/60000]\n",
      "loss: 1.610954  [51200/60000]\n",
      "loss: 1.550918  [57600/60000]\n",
      "Test Error: \n",
      " Accuracy: 55.5%, Avg loss: 1.571804 \n",
      "\n",
      "Epoch 5\n",
      "-------------------------------\n",
      "loss: 1.527013  [    0/60000]\n",
      "loss: 1.522601  [ 6400/60000]\n",
      "loss: 1.427484  [12800/60000]\n",
      "loss: 1.629544  [19200/60000]\n",
      "loss: 1.433827  [25600/60000]\n",
      "loss: 1.371330  [32000/60000]\n",
      "loss: 1.499339  [38400/60000]\n",
      "loss: 1.400842  [44800/60000]\n",
      "loss: 1.428302  [51200/60000]\n",
      "loss: 1.378518  [57600/60000]\n",
      "Test Error: \n",
      " Accuracy: 56.1%, Avg loss: 1.396009 \n",
      "\n",
      "Epoch 6\n",
      "-------------------------------\n",
      "loss: 1.334775  [    0/60000]\n",
      "loss: 1.352527  [ 6400/60000]\n",
      "loss: 1.241910  [12800/60000]\n",
      "loss: 1.492514  [19200/60000]\n",
      "loss: 1.274785  [25600/60000]\n",
      "loss: 1.226391  [32000/60000]\n",
      "loss: 1.370712  [38400/60000]\n",
      "loss: 1.276385  [44800/60000]\n",
      "loss: 1.303765  [51200/60000]\n",
      "loss: 1.268503  [57600/60000]\n",
      "Test Error: \n",
      " Accuracy: 56.9%, Avg loss: 1.276094 \n",
      "\n",
      "Epoch 7\n",
      "-------------------------------\n",
      "loss: 1.204076  [    0/60000]\n",
      "loss: 1.242912  [ 6400/60000]\n",
      "loss: 1.114812  [12800/60000]\n",
      "loss: 1.397681  [19200/60000]\n",
      "loss: 1.172082  [25600/60000]\n",
      "loss: 1.126601  [32000/60000]\n",
      "loss: 1.285638  [38400/60000]\n",
      "loss: 1.192491  [44800/60000]\n",
      "loss: 1.217304  [51200/60000]\n",
      "loss: 1.196912  [57600/60000]\n",
      "Test Error: \n",
      " Accuracy: 58.0%, Avg loss: 1.192771 \n",
      "\n",
      "Epoch 8\n",
      "-------------------------------\n",
      "loss: 1.113070  [    0/60000]\n",
      "loss: 1.168677  [ 6400/60000]\n",
      "loss: 1.024889  [12800/60000]\n",
      "loss: 1.329719  [19200/60000]\n",
      "loss: 1.102912  [25600/60000]\n",
      "loss: 1.055043  [32000/60000]\n",
      "loss: 1.226680  [38400/60000]\n",
      "loss: 1.132630  [44800/60000]\n",
      "loss: 1.154164  [51200/60000]\n",
      "loss: 1.148421  [57600/60000]\n",
      "Test Error: \n",
      " Accuracy: 59.2%, Avg loss: 1.132694 \n",
      "\n",
      "Epoch 9\n",
      "-------------------------------\n",
      "loss: 1.043709  [    0/60000]\n",
      "loss: 1.114076  [ 6400/60000]\n",
      "loss: 0.958395  [12800/60000]\n",
      "loss: 1.280762  [19200/60000]\n",
      "loss: 1.054221  [25600/60000]\n",
      "loss: 1.001619  [32000/60000]\n",
      "loss: 1.183532  [38400/60000]\n",
      "loss: 1.088129  [44800/60000]\n",
      "loss: 1.105581  [51200/60000]\n",
      "loss: 1.113598  [57600/60000]\n",
      "Test Error: \n",
      " Accuracy: 60.3%, Avg loss: 1.087196 \n",
      "\n",
      "Epoch 10\n",
      "-------------------------------\n",
      "loss: 0.987538  [    0/60000]\n",
      "loss: 1.071746  [ 6400/60000]\n",
      "loss: 0.906090  [12800/60000]\n",
      "loss: 1.242370  [19200/60000]\n",
      "loss: 1.016950  [25600/60000]\n",
      "loss: 0.959577  [32000/60000]\n",
      "loss: 1.149377  [38400/60000]\n",
      "loss: 1.053431  [44800/60000]\n",
      "loss: 1.066320  [51200/60000]\n",
      "loss: 1.086024  [57600/60000]\n",
      "Test Error: \n",
      " Accuracy: 61.5%, Avg loss: 1.050576 \n",
      "\n",
      "Done!\n"
     ]
    }
   ],
   "source": [
    "#손실함수와 옵티마이저를 초기화하고 train loop와 test loop에 전달합니다. \n",
    "loss_fn = nn.CrossEntropyLoss()\n",
    "optimizer = torch.optim.SGD(model.parameters(), lr=learning_rate)\n",
    "\n",
    "epochs = 10\n",
    "for t in range(epochs):\n",
    "    print(f\"Epoch {t+1}\\n-------------------------------\")\n",
    "    train_loop(train_dataloader, model, loss_fn, optimizer)\n",
    "    test_loop(test_dataloader, model, loss_fn)\n",
    "print(\"Done!\")"
   ]
  },
  {
   "cell_type": "code",
   "execution_count": null,
   "metadata": {},
   "outputs": [],
   "source": []
  }
 ],
 "metadata": {
  "kernelspec": {
   "display_name": "Python 3",
   "language": "python",
   "name": "python3"
  },
  "language_info": {
   "codemirror_mode": {
    "name": "ipython",
    "version": 3
   },
   "file_extension": ".py",
   "mimetype": "text/x-python",
   "name": "python",
   "nbconvert_exporter": "python",
   "pygments_lexer": "ipython3",
   "version": "3.8.5"
  }
 },
 "nbformat": 4,
 "nbformat_minor": 4
}
